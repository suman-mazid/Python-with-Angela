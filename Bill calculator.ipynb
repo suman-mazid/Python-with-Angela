{
 "cells": [
  {
   "cell_type": "code",
   "execution_count": null,
   "id": "95b6b75d-dcbe-42b4-897b-4175f78b0967",
   "metadata": {},
   "outputs": [],
   "source": [
    "print(\"Welcome to the tip calculator!\")\n",
    "bill= float(input(\"What was the total bill?\"))\n",
    "tip= int(input(\"How much would you like to tip? 10, 12 or 15 ?\"))\n",
    "people= int(input(\"How many people to split the bills?\"))\n",
    "bill_with_tip= tip/100 * bill + bill\n",
    "print(f\"Your total bill with tip is {bill_with_tip}\")\n",
    "bill_per_person= bill_with_tip/people\n",
    "final_amount= round(bill_per_person, 2)\n",
    "print(f\"Each person should pay {final_amount}\")"
   ]
  }
 ],
 "metadata": {
  "kernelspec": {
   "display_name": "Python 3 (ipykernel)",
   "language": "python",
   "name": "python3"
  },
  "language_info": {
   "codemirror_mode": {
    "name": "ipython",
    "version": 3
   },
   "file_extension": ".py",
   "mimetype": "text/x-python",
   "name": "python",
   "nbconvert_exporter": "python",
   "pygments_lexer": "ipython3",
   "version": "3.12.4"
  }
 },
 "nbformat": 4,
 "nbformat_minor": 5
}
